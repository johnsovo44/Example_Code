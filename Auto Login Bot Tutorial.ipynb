{
 "cells": [
  {
   "cell_type": "markdown",
   "metadata": {},
   "source": [
    "This code example is for an auto login bot from the website HongKiat: https://www.hongkiat.com/blog/automate-create-login-bot-python-selenium/ . Prior to execution you need to install this: https://sites.google.com/a/chromium.org/chromedriver/ . Necessary to open and \"Drive\" the chrome web browser. Each browser has its own driver (basically a program to move through a website programmatically is my understanding of a driver). This should be saved in the same location as the python script/notebook to really work. "
   ]
  },
  {
   "cell_type": "code",
   "execution_count": 1,
   "metadata": {},
   "outputs": [
    {
     "name": "stdout",
     "output_type": "stream",
     "text": [
      "Requirement already satisfied: selenium in c:\\programdata\\anaconda3\\lib\\site-packages (3.141.0)\n",
      "Requirement already satisfied: urllib3 in c:\\programdata\\anaconda3\\lib\\site-packages (from selenium) (1.24.2)\n"
     ]
    }
   ],
   "source": [
    "#!pip install selenium"
   ]
  },
  {
   "cell_type": "code",
   "execution_count": 2,
   "metadata": {},
   "outputs": [],
   "source": [
    "# import necessary modules\n",
    "from selenium import webdriver # insert explanation of module here\n",
    "from selenium.webdriver.common.by import By # insert explanation of module here\n",
    "from selenium.webdriver.support.ui import WebDriverWait # insert explanation of module here\n",
    "from selenium.webdriver.support import expected_conditions as EC # insert explanation of module here"
   ]
  },
  {
   "cell_type": "code",
   "execution_count": 3,
   "metadata": {},
   "outputs": [],
   "source": [
    "# Creating two strings for login and password\n",
    "usernameStr = 'putusernamehere'\n",
    "passwordStr = 'putpasswordhere'\n",
    "# these will be updated with text of our own soon. For now this is just a placeholder. "
   ]
  },
  {
   "cell_type": "code",
   "execution_count": 4,
   "metadata": {},
   "outputs": [],
   "source": [
    "# We want to test opening the web driver now. For convenience going to follow the tutorial and try to open my gmail. \n",
    "# ultimately I want this to open instagram for me and grab screenshots of info on a business page, but that's for another day\n",
    "browser = webdriver.Chrome()\n",
    "# first thing I noticed is the url is different from what I see on the gmail login page. Since I've signed and signed out\n",
    "# I am seeing something different. I am seeing a page for signing back into your account simply by clicking the name. \n",
    "# this is the url I get to sign back in: \n",
    "# https://accounts.google.com/signin/v2/sl/pwd?service=mail&passive=true&rm=false&continue=https%3A%2F%2Fmail.google.com%2\n",
    "# Fmail%2F&ss=1&scc=1&ltmpl=default&ltmplcache=2&emr=1&osid=1&flowName=GlifWebSignIn&flowEntry=AddSession&cid=0\n",
    "# &navigationDirection=forward\n",
    "# For now just going to see where the url listed in the tutorial takes me.\n",
    "browser.get('https://accounts.google.com/ServiceLogin?'\n",
    "             'service=mail&continue=https://mail.google'\n",
    "             '.com/mail/#identifier')\n",
    "# what is odd is that it looks like 3 different strings. Why not one long string? There are no commas either\n",
    "# which throws me off, doesn't seem executable. \n",
    "# But besides that I got an error: \"This version of ChromeDriver only supports Chrome version 80\". I have 79. \n",
    "# When I updated it, it still was a 79 version. Wasn't until I reset it that it became an 80. \n",
    "# Success! It launched!!!"
   ]
  },
  {
   "cell_type": "markdown",
   "metadata": {},
   "source": [
    "Next step is finding elements on the page. Keep in mind that selenium isn't just about web browser driving, its also about webscrpping. "
   ]
  }
 ],
 "metadata": {
  "kernelspec": {
   "display_name": "Python 3",
   "language": "python",
   "name": "python3"
  },
  "language_info": {
   "codemirror_mode": {
    "name": "ipython",
    "version": 3
   },
   "file_extension": ".py",
   "mimetype": "text/x-python",
   "name": "python",
   "nbconvert_exporter": "python",
   "pygments_lexer": "ipython3",
   "version": "3.7.4"
  }
 },
 "nbformat": 4,
 "nbformat_minor": 2
}
